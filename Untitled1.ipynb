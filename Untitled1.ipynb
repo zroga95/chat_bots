{
 "cells": [
  {
   "cell_type": "code",
   "execution_count": 1,
   "id": "d2648f3c",
   "metadata": {},
   "outputs": [
    {
     "name": "stderr",
     "output_type": "stream",
     "text": [
      "[nltk_data] Downloading package stopwords to\n",
      "[nltk_data]     C:\\Users\\zroga\\AppData\\Roaming\\nltk_data...\n",
      "[nltk_data]   Package stopwords is already up-to-date!\n"
     ]
    }
   ],
   "source": [
    "import gensim\n",
    "from gensim.utils import simple_preprocess\n",
    "import nltk\n",
    "nltk.download('stopwords')\n",
    "from nltk.corpus import stopwords\n",
    "import os\n",
    "import glob\n",
    "from parse_corpus import parse_script_lines, parse_script_characters, parse_dialogue\n",
    "from comparing_strings import getClosestSentiment\n",
    "\n",
    "stop_words = stopwords.words('english')\n",
    "stop_words.extend(['from', 'subject', 're', 'edu', 'use'])"
   ]
  },
  {
   "cell_type": "code",
   "execution_count": 2,
   "id": "cd5843da",
   "metadata": {},
   "outputs": [],
   "source": [
    "def sent_to_words(sentences):\n",
    "    for sentence in sentences:\n",
    "        # deacc=True removes punctuations\n",
    "        yield(gensim.utils.simple_preprocess(str(sentence), deacc=True))\n",
    "def remove_stopwords(texts):\n",
    "    return [[word for word in simple_preprocess(str(doc)) \n",
    "             if word not in stop_words] for doc in texts]"
   ]
  },
  {
   "cell_type": "code",
   "execution_count": 3,
   "id": "1bc5ed1d",
   "metadata": {},
   "outputs": [
    {
     "name": "stdout",
     "output_type": "stream",
     "text": [
      "{'INTERVIEWER': 7, 'HELPMANN': 29, 'JILL': 95, 'MRS. BUTTLE': 8, 'GIRL BUTTLE': 6, 'OFFICIAL': 5, 'CHARLIE': 4, 'BILL': 3, 'MR. KURTZMAN': 3, 'SAM': 356, 'THE FORCES': 2, 'JACK': 71, 'PORTER': 15, 'KURTZMAN': 37, 'DOCTOR': 7, 'MOTHER': 29, \"MAITRE'D\": 2, 'SPIRO': 15, 'MRS. TERRAIN': 21, 'SHIRLEY': 6, 'PHONE VOICE': 5, 'GENT': 10, 'TUTTLE': 18, 'SPOOR': 31, 'DOWSER': 24, 'NEIGHBOUR': 2, 'GIRL': 7, 'DR. JAFFE': 6, 'VOICE': 4, 'ALISON': 3, 'WARREN': 9, 'LIME': 16, 'TYPIST': 5, 'GUARD': 7, 'GUARD A': 7, 'GUARD B': 2, 'MATTHEWS': 5, 'OFFICIAL A': 3, \"SAM'S POV\": 2}\n"
     ]
    }
   ],
   "source": [
    "characters = parse_script_characters('Brazil_script.html')\n",
    "\n",
    "print(characters)\n",
    "\n",
    "chr_lines = parse_dialogue('Brazil_script.html')\n",
    "#print(chr_lines)"
   ]
  },
  {
   "cell_type": "code",
   "execution_count": 39,
   "id": "c201f1a1",
   "metadata": {},
   "outputs": [
    {
     "data": {
      "text/plain": [
       "'Bad sportsmanship. A ruthless minority of people seems to have forgotten certain good old fashioned virtues. They just can\\'t stand seeing the other fellow win. If these people would just play the game, instead of standing on the touch line heckling .  In fact, killing people  they\\'d get a lot more out of life. .  David... in a free society information is the name of the game. You can\\'t win the game if you\\'re a man short. .  I understand this concern on behalf of the tax-payers. People want value for money and a cost-effective service. .  That is why we always insist on the principle of Information Retrieval Charges. These terrorists are not pulling their weight, and it\\'s absolutely right and fair that those found guilty should pay for their periods of detention and the Information Retrieval Procedures used in their interrogation. .  On yes. Our morale is much higher than theirs, we\\'re fielding all their strokes, running a lot of them out, and pretty consistently knocking them for six. I\\'d say they\\'re nearly out of the game. .  Beginner\\'s luck. .  Thank you, David... and a very merry Christmas to you all. .  Hello, Jack. .  Of course. Barbara isn\\'t it? How are you? .  Fine, thank you. Hello, Sam. Ida said you might be here. Have you got a minute?  Would you excuse us? .  I need your help, Sam. .  Thanks very much Sam. .  If I can help you... .  Your father and I were very close. Of course Jeremiah was senior to me but we were close friends... especially after the bombing...  ... and I...  ... keep his name alive at the office every day. .  It\\'s as though he\\'s there speaking to me  \"\\'ere I am, J.H.!\" The ghost in the machine. .  I know he would have wanted me to help you... And I promised your mother I\\'d take you onto the team at information Retrieval. But I gather that... .  Too late? That\\'s for me to say. .  Welcome to Information Retrieval! .  Sam, what are we going to do with you? Can you hear me, Sam? .  Gillian Layton? .  I understand, Sam, I know exactly how you feel. So I brought you a bottle of barley water. .  I assure you, Sam, I\\'m doing everything within my power. But the rules of the game are laid down, and we all have to play by them  even me. .  Yes, well, from the Department\\'s point of view you\\'re certainly a bit of an own goal, but... .  Sam, if you\\'ve been going out there and playing a straight bat, all the way down the line, you\\'ve got absolutely nothing to worry about. .  Sam, I think I ought to tell you... I\\'m afraid she\\'s upped stumps and retired to the pavilion. .  Yes, it\\'s all a bit confusing but, it seems she was killed resisting arrest. .  The odd thing is it appears to have happened twice... a bit of a disputed call, I\\'m afraid. .   So, there you are. All I can say is, don\\'t fall at the last fence. The finishing post\\'s in sight. See you in the paddock. Good luck. Keep your eye on the ball. Got to go... Can\\'t keep the orphans waiting. .  He\\'s got away from us, Jack. . '"
      ]
     },
     "execution_count": 39,
     "metadata": {},
     "output_type": "execute_result"
    }
   ],
   "source": [
    "\n",
    "\" \".join([str(item) + '. ' for item in chr_lines['HELPMANN']])"
   ]
  },
  {
   "cell_type": "code",
   "execution_count": 5,
   "id": "a623039b",
   "metadata": {},
   "outputs": [
    {
     "name": "stdout",
     "output_type": "stream",
     "text": [
      "['bad', 'sportsmanship', 'ruthless', 'minority', 'people', 'seems', 'forgotten', 'certain', 'good', 'old', 'fashioned', 'virtues', 'stand', 'seeing', 'fellow', 'win', 'people', 'would', 'play', 'game', 'instead', 'standing', 'touch', 'line', 'heckling']\n"
     ]
    }
   ],
   "source": [
    "data = chr_lines['HELPMANN']\n",
    "data_words = list(sent_to_words(data))\n",
    "# remove stop words\n",
    "data_words = remove_stopwords(data_words)\n",
    "print(data_words[:1][0][:30])"
   ]
  },
  {
   "cell_type": "code",
   "execution_count": 6,
   "id": "d186832f",
   "metadata": {},
   "outputs": [
    {
     "name": "stdout",
     "output_type": "stream",
     "text": [
      "[(0, 1), (1, 1), (2, 1), (3, 1), (4, 1), (5, 1), (6, 1), (7, 1), (8, 1), (9, 1), (10, 1), (11, 1), (12, 2), (13, 1), (14, 1), (15, 1), (16, 1), (17, 1), (18, 1), (19, 1), (20, 1), (21, 1), (22, 1), (23, 1)]\n"
     ]
    }
   ],
   "source": [
    "import gensim.corpora as corpora\n",
    "# Create Dictionary\n",
    "id2word = corpora.Dictionary(data_words)\n",
    "# Create Corpus\n",
    "texts = data_words\n",
    "# Term Document Frequency\n",
    "corpus = [id2word.doc2bow(text) for text in texts]\n",
    "# View\n",
    "print(corpus[:1][0][:30])"
   ]
  },
  {
   "cell_type": "code",
   "execution_count": 25,
   "id": "078947c5",
   "metadata": {},
   "outputs": [
    {
     "name": "stdout",
     "output_type": "stream",
     "text": [
      "[(0,\n",
      "  '0.026*\"help\" + 0.026*\"information\" + 0.026*\"know\" + 0.026*\"team\" + '\n",
      "  '0.026*\"take\" + 0.026*\"retrieval\" + 0.026*\"onto\" + 0.026*\"wanted\" + '\n",
      "  '0.026*\"would\" + 0.026*\"promised\"'),\n",
      " (1,\n",
      "  '0.045*\"sam\" + 0.023*\"play\" + 0.023*\"feel\" + 0.023*\"bottle\" + 0.023*\"water\" '\n",
      "  '+ 0.023*\"game\" + 0.023*\"laid\" + 0.023*\"assure\" + 0.023*\"understand\" + '\n",
      "  '0.023*\"barley\"'),\n",
      " (2,\n",
      "  '0.055*\"retrieval\" + 0.055*\"information\" + 0.037*\"sam\" + 0.020*\"guilty\" + '\n",
      "  '0.020*\"right\" + 0.020*\"always\" + 0.020*\"absolutely\" + 0.020*\"periods\" + '\n",
      "  '0.020*\"weight\" + 0.020*\"fair\"'),\n",
      " (3,\n",
      "  '0.055*\"keep\" + 0.029*\"got\" + 0.029*\"ball\" + 0.029*\"waiting\" + 0.029*\"good\" '\n",
      "  '+ 0.029*\"luck\" + 0.029*\"post\" + 0.029*\"fall\" + 0.029*\"last\" + 0.029*\"see\"'),\n",
      " (4,\n",
      "  '0.005*\"help\" + 0.005*\"sam\" + 0.005*\"jack\" + 0.005*\"barbara\" + '\n",
      "  '0.005*\"information\" + 0.005*\"gillian\" + 0.005*\"say\" + 0.005*\"retrieval\" + '\n",
      "  '0.005*\"hello\" + 0.005*\"beginner\"'),\n",
      " (5,\n",
      "  '0.064*\"sam\" + 0.033*\"point\" + 0.033*\"yes\" + 0.033*\"bit\" + 0.033*\"certainly\" '\n",
      "  '+ 0.033*\"well\" + 0.033*\"view\" + 0.033*\"goal\" + 0.033*\"department\" + '\n",
      "  '0.033*\"hear\"'),\n",
      " (6,\n",
      "  '0.042*\"sam\" + 0.042*\"say\" + 0.022*\"got\" + 0.022*\"consistently\" + '\n",
      "  '0.022*\"game\" + 0.022*\"morale\" + 0.022*\"yes\" + 0.022*\"much\" + 0.022*\"bat\" + '\n",
      "  '0.022*\"knocking\"'),\n",
      " (7,\n",
      "  '0.023*\"sam\" + 0.023*\"hello\" + 0.023*\"might\" + 0.023*\"us\" + '\n",
      "  '0.023*\"effective\" + 0.023*\"fine\" + 0.023*\"money\" + 0.023*\"got\" + '\n",
      "  '0.023*\"minute\" + 0.023*\"people\"'),\n",
      " (8,\n",
      "  '0.032*\"people\" + 0.032*\"seems\" + 0.032*\"bit\" + 0.017*\"fellow\" + '\n",
      "  '0.017*\"fashioned\" + 0.017*\"minority\" + 0.017*\"sportsmanship\" + '\n",
      "  '0.017*\"would\" + 0.017*\"game\" + 0.017*\"line\"'),\n",
      " (9,\n",
      "  '0.054*\"game\" + 0.039*\"name\" + 0.034*\"close\" + 0.028*\"information\" + '\n",
      "  '0.028*\"win\" + 0.028*\"man\" + 0.028*\"david\" + 0.028*\"society\" + 0.028*\"short\" '\n",
      "  '+ 0.028*\"free\"')]\n"
     ]
    }
   ],
   "source": [
    "from pprint import pprint\n",
    "# number of topics\n",
    "num_topics = 10\n",
    "# Build LDA model\n",
    "lda_model = gensim.models.LdaMulticore(corpus=corpus,\n",
    "                                       id2word=id2word,\n",
    "                                       num_topics=num_topics)\n",
    "# Print the Keyword in the 10 topics\n",
    "pprint(lda_model.print_topics())\n",
    "doc_lda = lda_model[corpus]"
   ]
  },
  {
   "cell_type": "code",
   "execution_count": null,
   "id": "38850f9d",
   "metadata": {},
   "outputs": [],
   "source": []
  },
  {
   "cell_type": "code",
   "execution_count": null,
   "id": "d8853554",
   "metadata": {},
   "outputs": [],
   "source": []
  }
 ],
 "metadata": {
  "kernelspec": {
   "display_name": "Python 3 (ipykernel)",
   "language": "python",
   "name": "python3"
  },
  "language_info": {
   "codemirror_mode": {
    "name": "ipython",
    "version": 3
   },
   "file_extension": ".py",
   "mimetype": "text/x-python",
   "name": "python",
   "nbconvert_exporter": "python",
   "pygments_lexer": "ipython3",
   "version": "3.9.12"
  }
 },
 "nbformat": 4,
 "nbformat_minor": 5
}
